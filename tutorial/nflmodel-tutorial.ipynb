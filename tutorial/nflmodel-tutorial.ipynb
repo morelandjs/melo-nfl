
    import pkgutil
    from io import StringIO

    from nflmodel import betting_simulator
    import pandas as pd

    pkgdata = pkgutil.get_data(
        'nflmodel',
        'data/betting_lines.csv'
    ).decode("utf-8")

    df_lines = pd.read_csv(StringIO(pkgdata))

    bets = betting_simulator(threshold=threshold)

    # TODO print bet numbers
    print(df)

    # TODO save bet
