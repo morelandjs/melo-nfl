{
 "cells": [
  {
   "cell_type": "markdown",
   "metadata": {},
   "source": [
    "# Forecasting NFL point spreads and point totals using the margin-dependent Elo model\n",
    "\n",
    "#### J. Scott Moreland | Philadelphia, PA | January 11th, 2020\n",
    "\n",
    "_A brief tutorial of an NFL implementation of the margin-dependent Elo (MELO) model._"
   ]
  },
  {
   "cell_type": "markdown",
   "metadata": {},
   "source": [
    "## Intro\n",
    "\n",
    "This Jupyter notebook describes the `nflmodel` Python package which can be used to predict the full probability distribution of NFL point-spread and point-total outcomes.\n",
    "\n",
    "The model is inspired by the Elo based sports analytics work at [fivethirtyeight.com](https://fivethirtyeight.com/) and makes use of a machine learning algorithm that I developed called the [margin-dependent Elo (MELO)](https://github.com/morelandjs/melo) model.\n",
    "\n",
    "I describe the theory behind the algorithm at length in an [arXiv pre-print](https://arxiv.org/abs/1802.00527), and you can also read about it on the [MELO sphinx documentation](https://moreland.dev/projects/melo/) page. The purpose of the blog post is not to rehash the theory behind the model, but rather to demonstrate how it can be used effectively in practice."
   ]
  },
  {
   "cell_type": "markdown",
   "metadata": {},
   "source": [
    "## Requirements\n",
    "\n",
    "The `nflmodel` package requires Python3 and is intended to be used through a command line interface. I've tested the package on Arch Linux and OSX, but not on Windows.\n",
    "\n",
    "The model also requires an active internet connection to pull in the latest game data and schedule information. I'm working to enable offline capabilities, but this does not exist at the moment."
   ]
  },
  {
   "cell_type": "markdown",
   "metadata": {},
   "source": [
    "## Installation\n",
    "\n",
    "Navigate to the parent directory where you want to save the `nflmodel` package source, then run the following from the command line to install."
   ]
  },
  {
   "cell_type": "code",
   "execution_count": 3,
   "metadata": {},
   "outputs": [
    {
     "name": "stdout",
     "output_type": "stream",
     "text": [
      "Cloning into 'nflmodel'...\n",
      "remote: Enumerating objects: 230, done.\u001b[K\n",
      "remote: Counting objects: 100% (230/230), done.\u001b[K\n",
      "remote: Compressing objects: 100% (141/141), done.\u001b[K\n",
      "remote: Total 347 (delta 117), reused 172 (delta 69), pack-reused 117\u001b[K\n",
      "Receiving objects: 100% (347/347), 286.46 KiB | 263.00 KiB/s, done.\n",
      "Resolving deltas: 100% (164/164), done.\n",
      "Processing ./nflmodel\n",
      "Collecting hyperopt (from nflmodel==0.1)\n",
      "  Using cached https://files.pythonhosted.org/packages/7e/11/8bbbb5edb78c40a2bd0f6b730e3dc0f29ffbaea9a59520eb9622951e9151/hyperopt-0.2.3-py3-none-any.whl\n",
      "Collecting matplotlib (from nflmodel==0.1)\n",
      "  Using cached https://files.pythonhosted.org/packages/53/6c/7b400d45f0ecd6703b2779a7dfda6578579a353748e1b43d8353cb7f5b7f/matplotlib-3.1.2-cp38-cp38-manylinux1_x86_64.whl\n",
      "Collecting melo@ git+https://git@github.com/morelandjs/melo.git@dev#egg=melo from git+https://git@github.com/morelandjs/melo.git@dev#egg=melo (from nflmodel==0.1)\n",
      "  Cloning https://git@github.com/morelandjs/melo.git (to revision dev) to /tmp/pip-install-x_8a7h2t/melo\n",
      "  Running command git clone -q https://git@github.com/morelandjs/melo.git /tmp/pip-install-x_8a7h2t/melo\n",
      "  Running command git checkout -b dev --track origin/dev\n",
      "  Switched to a new branch 'dev'\n",
      "  Branch 'dev' set up to track remote branch 'dev' from 'origin'.\n",
      "Collecting nflgame_redux@ git+https://git@github.com/morelandjs/nflgame.git@master#egg=nflgame_redux from git+https://git@github.com/morelandjs/nflgame.git@master#egg=nflgame_redux (from nflmodel==0.1)\n",
      "  Cloning https://git@github.com/morelandjs/nflgame.git (to revision master) to /tmp/pip-install-x_8a7h2t/nflgame-redux\n",
      "  Running command git clone -q https://git@github.com/morelandjs/nflgame.git /tmp/pip-install-x_8a7h2t/nflgame-redux\n",
      "Collecting numpy (from nflmodel==0.1)\n",
      "  Using cached https://files.pythonhosted.org/packages/41/38/b278d96baebc6a4818cfd9c0fb6f0e62013d5b87374bcf0f14a0e9b83ed5/numpy-1.18.1-cp38-cp38-manylinux1_x86_64.whl\n",
      "Collecting pandas (from nflmodel==0.1)\n",
      "  Using cached https://files.pythonhosted.org/packages/7b/fd/41698f20fd297cef2dc43a72a8ca42d149eaf7d954f1fb2bd3fc366a658d/pandas-0.25.3-cp38-cp38-manylinux1_x86_64.whl\n",
      "Collecting scipy>=0.18.0 (from nflmodel==0.1)\n",
      "  Using cached https://files.pythonhosted.org/packages/f3/08/8bdcdcd149ea41b655956feb7c19ebf7e1f561738bd5570b6ae015daf411/scipy-1.4.1-cp38-cp38-manylinux1_x86_64.whl\n",
      "Requirement already satisfied: setuptools in ./.env/lib/python3.8/site-packages (from nflmodel==0.1) (41.2.0)\n",
      "Collecting SQLAlchemy (from nflmodel==0.1)\n",
      "  Using cached https://files.pythonhosted.org/packages/af/47/35edeb0f86c0b44934c05d961c893e223ef27e79e1f53b5e6f14820ff553/SQLAlchemy-1.3.13.tar.gz\n",
      "Collecting tqdm (from hyperopt->nflmodel==0.1)\n",
      "  Using cached https://files.pythonhosted.org/packages/cc/2e/4307206db63f05ed37e21d4c0d843d0fbcacd62479f8ce99ba0f2c0875e0/tqdm-4.42.0-py2.py3-none-any.whl\n",
      "Collecting networkx==2.2 (from hyperopt->nflmodel==0.1)\n",
      "Collecting cloudpickle (from hyperopt->nflmodel==0.1)\n",
      "  Using cached https://files.pythonhosted.org/packages/c1/49/334e279caa3231255725c8e860fa93e72083567625573421db8875846c14/cloudpickle-1.2.2-py2.py3-none-any.whl\n",
      "Collecting future (from hyperopt->nflmodel==0.1)\n",
      "  Using cached https://files.pythonhosted.org/packages/45/0b/38b06fd9b92dc2b68d58b75f900e97884c45bedd2ff83203d933cf5851c9/future-0.18.2.tar.gz\n",
      "Requirement already satisfied: six in ./.env/lib/python3.8/site-packages (from hyperopt->nflmodel==0.1) (1.14.0)\n",
      "Requirement already satisfied: python-dateutil>=2.1 in ./.env/lib/python3.8/site-packages (from matplotlib->nflmodel==0.1) (2.8.1)\n",
      "Collecting kiwisolver>=1.0.1 (from matplotlib->nflmodel==0.1)\n",
      "  Using cached https://files.pythonhosted.org/packages/64/8b/a70681c9a471f8187fed80d0aa9c9bb55ec3bf9daa50bd1cdc0c73d4910c/kiwisolver-1.1.0-cp38-cp38-manylinux1_x86_64.whl\n",
      "Collecting pyparsing!=2.0.4,!=2.1.2,!=2.1.6,>=2.0.1 (from matplotlib->nflmodel==0.1)\n",
      "  Using cached https://files.pythonhosted.org/packages/5d/bc/1e58593167fade7b544bfe9502a26dc860940a79ab306e651e7f13be68c2/pyparsing-2.4.6-py2.py3-none-any.whl\n",
      "Collecting cycler>=0.10 (from matplotlib->nflmodel==0.1)\n",
      "  Using cached https://files.pythonhosted.org/packages/f7/d2/e07d3ebb2bd7af696440ce7e754c59dd546ffe1bbe732c8ab68b9c834e61/cycler-0.10.0-py2.py3-none-any.whl\n",
      "Collecting pytz (from nflgame_redux@ git+https://git@github.com/morelandjs/nflgame.git@master#egg=nflgame_redux->nflmodel==0.1)\n",
      "  Using cached https://files.pythonhosted.org/packages/e7/f9/f0b53f88060247251bf481fa6ea62cd0d25bf1b11a87888e53ce5b7c8ad2/pytz-2019.3-py2.py3-none-any.whl\n",
      "Collecting beautifulsoup4 (from nflgame_redux@ git+https://git@github.com/morelandjs/nflgame.git@master#egg=nflgame_redux->nflmodel==0.1)\n",
      "  Using cached https://files.pythonhosted.org/packages/cb/a1/c698cf319e9cfed6b17376281bd0efc6bfc8465698f54170ef60a485ab5d/beautifulsoup4-4.8.2-py3-none-any.whl\n",
      "Collecting lxml (from nflgame_redux@ git+https://git@github.com/morelandjs/nflgame.git@master#egg=nflgame_redux->nflmodel==0.1)\n",
      "  Using cached https://files.pythonhosted.org/packages/c0/a9/1fdadc1332a17a66f9074eccd364d548a5d5b6d7b624d683aadb45ed8b1b/lxml-4.5.0-cp38-cp38-manylinux1_x86_64.whl\n",
      "Collecting requests (from nflgame_redux@ git+https://git@github.com/morelandjs/nflgame.git@master#egg=nflgame_redux->nflmodel==0.1)\n",
      "  Using cached https://files.pythonhosted.org/packages/51/bd/23c926cd341ea6b7dd0b2a00aba99ae0f828be89d72b2190f27c11d4b7fb/requests-2.22.0-py2.py3-none-any.whl\n",
      "Requirement already satisfied: decorator>=4.3.0 in ./.env/lib/python3.8/site-packages (from networkx==2.2->hyperopt->nflmodel==0.1) (4.4.1)\n",
      "Collecting soupsieve>=1.2 (from beautifulsoup4->nflgame_redux@ git+https://git@github.com/morelandjs/nflgame.git@master#egg=nflgame_redux->nflmodel==0.1)\n",
      "  Using cached https://files.pythonhosted.org/packages/81/94/03c0f04471fc245d08d0a99f7946ac228ca98da4fa75796c507f61e688c2/soupsieve-1.9.5-py2.py3-none-any.whl\n",
      "Collecting certifi>=2017.4.17 (from requests->nflgame_redux@ git+https://git@github.com/morelandjs/nflgame.git@master#egg=nflgame_redux->nflmodel==0.1)\n",
      "  Using cached https://files.pythonhosted.org/packages/b9/63/df50cac98ea0d5b006c55a399c3bf1db9da7b5a24de7890bc9cfd5dd9e99/certifi-2019.11.28-py2.py3-none-any.whl\n",
      "Collecting urllib3!=1.25.0,!=1.25.1,<1.26,>=1.21.1 (from requests->nflgame_redux@ git+https://git@github.com/morelandjs/nflgame.git@master#egg=nflgame_redux->nflmodel==0.1)\n",
      "  Using cached https://files.pythonhosted.org/packages/e8/74/6e4f91745020f967d09332bb2b8b9b10090957334692eb88ea4afe91b77f/urllib3-1.25.8-py2.py3-none-any.whl\n",
      "Collecting chardet<3.1.0,>=3.0.2 (from requests->nflgame_redux@ git+https://git@github.com/morelandjs/nflgame.git@master#egg=nflgame_redux->nflmodel==0.1)\n",
      "  Using cached https://files.pythonhosted.org/packages/bc/a9/01ffebfb562e4274b6487b4bb1ddec7ca55ec7510b22e4c51f14098443b8/chardet-3.0.4-py2.py3-none-any.whl\n",
      "Collecting idna<2.9,>=2.5 (from requests->nflgame_redux@ git+https://git@github.com/morelandjs/nflgame.git@master#egg=nflgame_redux->nflmodel==0.1)\n",
      "  Using cached https://files.pythonhosted.org/packages/14/2c/cd551d81dbe15200be1cf41cd03869a46fe7226e7450af7a6545bfc474c9/idna-2.8-py2.py3-none-any.whl\n",
      "Installing collected packages: numpy, tqdm, networkx, cloudpickle, future, scipy, hyperopt, kiwisolver, pyparsing, cycler, matplotlib, melo, pytz, soupsieve, beautifulsoup4, lxml, certifi, urllib3, chardet, idna, requests, nflgame-redux, pandas, SQLAlchemy, nflmodel\n",
      "  Running setup.py install for future ... \u001b[?25ldone\n",
      "\u001b[?25h  Running setup.py install for melo ... \u001b[?25ldone\n",
      "\u001b[?25h  Running setup.py install for nflgame-redux ... \u001b[?25ldone\n",
      "\u001b[?25h  Running setup.py install for SQLAlchemy ... \u001b[?25ldone\n",
      "\u001b[?25h  Running setup.py install for nflmodel ... \u001b[?25ldone\n",
      "\u001b[?25hSuccessfully installed SQLAlchemy-1.3.13 beautifulsoup4-4.8.2 certifi-2019.11.28 chardet-3.0.4 cloudpickle-1.2.2 cycler-0.10.0 future-0.18.2 hyperopt-0.2.3 idna-2.8 kiwisolver-1.1.0 lxml-4.5.0 matplotlib-3.1.2 melo-1.1.0 networkx-2.2 nflgame-redux-2.0.1b1 nflmodel-0.1 numpy-1.18.1 pandas-0.25.3 pyparsing-2.4.6 pytz-2019.3 requests-2.22.0 scipy-1.4.1 soupsieve-1.9.5 tqdm-4.42.0 urllib3-1.25.8\n",
      "\u001b[33mWARNING: You are using pip version 19.2.3, however version 20.0.2 is available.\n",
      "You should consider upgrading via the 'pip install --upgrade pip' command.\u001b[0m\n"
     ]
    }
   ],
   "source": [
    "!git clone https://github.com/morelandjs/nfl-model.git nflmodel\n",
    "!pip3 install --user nflmodel/."
   ]
  },
  {
   "cell_type": "markdown",
   "metadata": {},
   "source": [
    "After installing the `nflmodel` package, you'll need to populate the database of NFL game data. Since this is presumably your first time running the package, it will download all available games dating back to the 2009 season."
   ]
  },
  {
   "cell_type": "code",
   "execution_count": 4,
   "metadata": {},
   "outputs": [
    {
     "name": "stdout",
     "output_type": "stream",
     "text": [
      "Traceback (most recent call last):\r\n",
      "  File \"/home/morelandjs/.local/bin/nflmodel\", line 8, in <module>\r\n",
      "    import numpy as np\r\n",
      "ModuleNotFoundError: No module named 'numpy'\r\n"
     ]
    }
   ],
   "source": [
    "!nflmodel update"
   ]
  },
  {
   "cell_type": "markdown",
   "metadata": {},
   "source": [
    "Subsequent calls to `nflmodel update` will incrementally refresh the database and pull in all new game data since the last update. If at any point your database becomes corrupted, you can rebuild it from scratch using the optional `--rebuild` flag.\n",
    "\n",
    "Now that we've populated the database, let's inspect some of the game data contained within."
   ]
  },
  {
   "cell_type": "code",
   "execution_count": null,
   "metadata": {},
   "outputs": [],
   "source": [
    "!nflmodel games"
   ]
  },
  {
   "cell_type": "markdown",
   "metadata": {},
   "source": [
    "Each row corresponds to a single game, and each column is a certain attribute of that game. At the moment I populate the following attributes:\n",
    "\n",
    "* **datetime** - (datetime64) - game start time\n",
    "* **season** (int) - year in which the season started\n",
    "* **week** (int) - nfl season week 1–17\n",
    "* **team_home** (string) - home team city abbreviation\n",
    "* **qb_home** (string) - home team quarterback name, first initial dot surname\n",
    "* **score_home** (int) - home team points scored\n",
    "* **team_away** (string) - away team city abbreviation\n",
    "* **qb_away** (string) - away team quarterback name, first initial dot surname\n",
    "* **score_away** (int) - away team points scored"
   ]
  },
  {
   "cell_type": "markdown",
   "metadata": {},
   "source": [
    "Note, the `nflmodel games` runner is printing a pandas dataframe, so it may hide columns in order to fit the width of your terminal window. If you want to see more column output, try enlarging your terminal window.\n",
    "\n",
    "If you want to see more _row_ output, use the `--head` and `--tail` commands. For example,"
   ]
  },
  {
   "cell_type": "code",
   "execution_count": null,
   "metadata": {
    "scrolled": true
   },
   "outputs": [],
   "source": [
    "!nflmodel games --head 3"
   ]
  },
  {
   "cell_type": "markdown",
   "metadata": {},
   "source": [
    "The games dataframe is sorted from oldest to most recent, so `--head N` returns the N oldest games in the database and `--tail N` returns the N most recent games. If you want to print the entire dataset to standard out, just set `--head` or `--tail` to a very large number.\n",
    "\n"
   ]
  },
  {
   "cell_type": "markdown",
   "metadata": {},
   "source": [
    "## Calibration\n",
    "\n",
    "The model predictions depend on a handful of hyperparameter values that are unknown _a priori_. These hyperparameters are:\n",
    "* **kfactor** (float) - prefactor multiplying the Elo rating update; a larger kfactor makes the ratings more reponsive to game outcomes\n",
    "* **regress_coeff** (float) - fraction to regress each rating to the mean after 3 months inactivity\n",
    "* **rest_bonus** (float) - prefactor multiplying each matchup's rest difference (or sum)\n",
    "* **exp_bonus** (float) - prefactor multiplying each matchup's quarterback experience difference (or sum)\n",
    "* **weight_qb** (float) - coeficient used to blend team ratings and quarterback ratings.\n",
    "\n",
    "Home field advantage is accounted for naturally by the `MELO` model constructor, so it is not included in the above list.\n",
    "\n",
    "The hyperparameter values are calibrated by the following command (this will take several minutes or so, so grab a drink)."
   ]
  },
  {
   "cell_type": "code",
   "execution_count": null,
   "metadata": {},
   "outputs": [],
   "source": [
    "!nflmodel calibrate --steps 200"
   ]
  },
  {
   "cell_type": "markdown",
   "metadata": {},
   "source": [
    "Here the argument `--steps` (default value 100) specifies the number of calibration steps used by [hyperopt](https://github.com/hyperopt/hyperopt) to optimize the hyperparameter values. I've generally found that around 200 calibration steps is sufficient, but the convergence is already very good after only 100 steps.\n",
    "\n",
    "Note, the `MELO` model is actually very fast to train once the hyperparameter values are known, so default behavior is to retrain the model every time it is queried from the CLI. This ensures that the model predictions are always up to date."
   ]
  },
  {
   "cell_type": "markdown",
   "metadata": {},
   "source": [
    "## Weekly forecasts\n",
    "\n",
    "Once calibrated, the `nflmodel` package can forecast various metrics for a given NFL season and week. For instance, the command"
   ]
  },
  {
   "cell_type": "code",
   "execution_count": null,
   "metadata": {},
   "outputs": [],
   "source": [
    "!nflmodel forecast 2019 10"
   ]
  },
  {
   "cell_type": "markdown",
   "metadata": {},
   "source": [
    "will generate predictions for the 10th week of the 2019 NFL season, using all available game data prior to the start of that week. If you do not provide the year and week, the code will try to infer the upcoming week based on the current date and known NFL season schedule.\n",
    "\n",
    "The output is structured relative to the favorite team in each matchup, with home teams indicated by an '@' symbol. For example, the forecast output above says that NO is playing at home versus ATL, where they have a 91% win probability, are favored by 9.6 points, and are predicted to combine for 47.4 total points. The games are also sorted so that the most lopsided matchups appear first and most even matchups appear last."
   ]
  },
  {
   "cell_type": "markdown",
   "metadata": {},
   "source": [
    "## Team rankings\n",
    "\n",
    "The model will also provide team rankings at a given moment in time. For example, suppose I want to rank every team at precisely `datetime = 2019-11-11T20:23:06`. I can issue the command"
   ]
  },
  {
   "cell_type": "code",
   "execution_count": null,
   "metadata": {
    "scrolled": false
   },
   "outputs": [],
   "source": [
    "!nflmodel rank --datetime \"2019-11-11T20:23:06\""
   ]
  },
  {
   "cell_type": "markdown",
   "metadata": {},
   "source": [
    "and see how the model thinks the teams should be ranked at that moment in time, according to their predicted performance against a league average opponent on a neutral field. The far left column is each team's predicted win probability, the middle column is its predicted Vegas point spread, and the far right column is its predicted point total.\n",
    "\n",
    "The table above, for instance, tells me that BAL is most likely to win a generic matchup, while NE is most likely to blow out their opponent, and TB is the most likely to find itself in a shoot out.\n",
    "\n",
    "## Individual game predictions\n",
    "\n",
    "One attractive feature of the `MELO` base estimator is that it predicts full probability _distributions_. This enables the model to do all sorts of cool things like predict interquartile ranges for the point spread or draw samples of a matchup's point total distribution.\n",
    "\n",
    "Most notably, it means that the model can estimate the probability that the point spread (or point total) falls above or below a given line. This means that it can evaluate the profitability of various bets point spread and point total lines.\n",
    "\n",
    "This capability is accessed using the `nflmodel predict` entry point. For example, suppose you want to analyze the game `2019-12-01 CLE at MIA` with the following betting profile\n",
    "\n",
    "|     | SPREAD      | TOTAL         |\n",
    "|-----|-------------|---------------|\n",
    "| CLE | -9.5 (-110) | O 46.5 (-105) |\n",
    "| MIA | +9.5 (-110) | U 46.5 (-115) |\n",
    "\n",
    "This is accomplished by calling the `nfl predict` runner with the following arguments."
   ]
  },
  {
   "cell_type": "code",
   "execution_count": null,
   "metadata": {},
   "outputs": [],
   "source": [
    "!nflmodel predict \"2019-12-01\" CLE MIA --spread -110 -110 9.5 --total -105 -115 46.5"
   ]
  },
  {
   "cell_type": "markdown",
   "metadata": {},
   "source": [
    "There's a lot of information here, so let's unpack what it means. First, the model believes CLE is a heavy favorite on the road. CLE's predicted win probability is 68%, their predicted point spread is -12.6 points, and their predicted point total is 44.2 points (according to the model). This would correspond to a characteristic final score of 28-16 CLE over MIA with fairly large uncertainties.\n",
    "\n",
    "The model is also providing input on the Vegas point spread and point total lines. It expects CLE to cover their point spread line 59% of the time which is good for a 14% ROI, accounting for the house cut. Conversely, betting on MIA is expected to net a loss of 24% on average.\n",
    "\n",
    "The over/under metrics are reported in a similar fashion. The model thinks there's a 55% chance the total score goes under the published Vegas line which is good for a 4% return on average. Similarly, taking the over is expected to net a 13% loss.\n",
    "\n",
    "#### Quarterback changes\n",
    "\n",
    "While it has not been readily apparent up to this point, the model accounts for changes at the quarterback position. It does this by tracking ratings at both the team and quarterback level.\n",
    "\n",
    "For example, suppose Tom Brady were the only quarterback that ever played for the Patriots. Then there would be two associated ratings, one for T.Brady and one for NE, which are effectively identical. If however, Tom Brady left NE and went to play for SF for the last two years of his career, his rating would diverge from NE's rating and begin to track the performance of SF.\n",
    "\n",
    "I take the weighted average of QB level and team level ratings when generating the effective rating for each upcoming game. In this way, I mix together the historical performance of the team with its QB. The weighted average is controlled by the `qb_weight` hyperparameter which is fixed when calibrating the model.\n",
    "\n",
    "The model has no direct knowledge of QB injuries, so you'll have to explicitly tell the model to generate predictions with a different quarterback if that's what you intend to do. At the moment, the only runner that can accommodate QB injuries is the `nflmodel predict` runner.\n",
    "\n",
    "Suppose, for example, you want to see how CLE would perform on the road against PHI on 2019-12-01 if Carson Wentz went out with an injury practicing before the game. First let's see how the two teams would matchup if Wentz never got hurt. "
   ]
  },
  {
   "cell_type": "code",
   "execution_count": null,
   "metadata": {},
   "outputs": [],
   "source": [
    "!nflmodel predict \"2019-12-01\" CLE-B.Mayfield PHI-C.Wentz"
   ]
  },
  {
   "cell_type": "markdown",
   "metadata": {},
   "source": [
    "Notice that the predictions are exactly the same if I omit the quarterback suffixes."
   ]
  },
  {
   "cell_type": "code",
   "execution_count": null,
   "metadata": {},
   "outputs": [],
   "source": [
    "!nflmodel predict \"2019-12-01\" CLE PHI"
   ]
  },
  {
   "cell_type": "markdown",
   "metadata": {},
   "source": [
    "This is because both Baker Mayfield and Carson Wentz played in the game preceding the specified date, so the model assumes they are the starting QBs for upcoming games by default.\n",
    "\n",
    "Suppose now, that Wentz got hurt. We can specify his backup QB Josh McCown to see how that would affect the model predictions."
   ]
  },
  {
   "cell_type": "code",
   "execution_count": null,
   "metadata": {},
   "outputs": [],
   "source": [
    "!nflmodel predict \"2019-12-01\" CLE PHI-J.McCown"
   ]
  },
  {
   "cell_type": "markdown",
   "metadata": {},
   "source": [
    "This creates roughly a 7 point swing in the point spread and CLE is now the favorite. In faireness to Josh McCown, the magnitude of this point shift is not purely a statement about the better QB. It also accounts for the fact that PHI has not been game planning for McCown, and the offense is not built around him.\n",
    "\n",
    "## Validation\n",
    "\n",
    "The `nflmodel` package includes a command line runner to validate the predictions of the model. If the model predictions are statistically robust, then the distribution of standardized residuals will be unit normal and the distribution of residual quantiles will be uniform.\n",
    "\n",
    "This is a very powerful test of the model's veracity, but it does not necessarily mean the model is accurate. Rather it tests whether the model is correctly reporting its own uncertainties. To quantify the model's accuracy, `nflmodel validate` also reports the models mean absolute prediction error for seasons 2011 through present."
   ]
  },
  {
   "cell_type": "code",
   "execution_count": null,
   "metadata": {},
   "outputs": [],
   "source": [
    "!nflmodel validate"
   ]
  },
  {
   "cell_type": "markdown",
   "metadata": {},
   "source": [
    "This will produce two figures, `validate_spread.png` and `validate_total.png` in the current working directory. For example, the point spread validation figure is shown below."
   ]
  },
  {
   "cell_type": "markdown",
   "metadata": {},
   "source": [
    "![spread validation](validate_spread.png)"
   ]
  },
  {
   "cell_type": "markdown",
   "metadata": {},
   "source": [
    "The model's point spreads have a mean absolute error of 10.36 points and its point totals have a mean absolute error of 10.70 points. The table below compares the model's point spread mean absolute error to Vegas for the specific season range 2011–2019.\n",
    "\n",
    "| MAE   | SPREAD    | TOTAL     |\n",
    "|-------|-----------|-----------|\n",
    "| MODEL | 10.36 pts | 10.70 pts |\n",
    "| VEGAS | 10.23 pts | 10.49 pts |\n",
    "\n",
    "The model is less accurate than Vegas, but these numbers are still promising considering that many factors remain missing from the model such as weather and personnel changes.\n",
    "\n",
    "## Betting simulation\n",
    "\n",
    "I've also bundled a small script `nflmodel/tutorial/simulate-bets.py` inside the tutorial directory which can simulate the performance of the model as a betting tool on historical games. Hereafter, I restrict my attention to point spreads since I'm currently neglecting many factors which are specifically important to point total values like stadium type and weather.\n",
    "\n",
    "The general idea is as follows. I backtest the model and estimate the probability that the home team and away team each cover their Vegas spread (scraped from covers.com) at the moment just before kickoff. If the model believes that either team will cover their spread with a likelihood greater than X, where X is a fixed decision threshold, then I place a simulated bet on that team.\n",
    "\n",
    "When the threshold X=50%, the simulation places bets on every game, and when the threshold X ≫ 50%, the simulation is far more selective with the games it chooses to bet on. If I set the decision threshold X > 90% then the model cannot find any games with sufficiently high confidence to bet on.\n",
    "\n",
    "In principle, one expects the model to get more bets correct when X is large because it is more confident in those bets. The goal here is to see if there is a threshold X which is sufficiently large to yield a positive ROI.\n",
    "\n",
    "Technically, I need more information to compute the model's ROI than just the historical spread. I also need the vigorish or \"juice\" on each spread which is the cut taken by the house in order to place a bet. Typically this ranges anywhere from -100 to -120 for spread bets, which means you might need to risk up to 120 dollars in order to win 100 dollars. More extreme vigs exist but they are uncommon.\n",
    "\n",
    "Unfortunately, **I do not have the historical vigs for these lines**, precluding a true ROI simulation. However, you can rest assured that the ROI will be strongly negative if the model is not getting more games right than wrong. So for now, let's just see if I can demonstrate that the model is better than 50-50 _with statistical significance_.\n",
    "\n",
    "Statistical significance here is key. As I increase the betting threshold, I reduce my validation statistics because the number of qualifying games drops. For large values of the threshold X, the model may only find a dozen or so qualifying games to bet on. This means the results of the simulation will be noisy and it will be possible to be duped by statistical fluctuations (we've all seen someone flip four heads in a row).\n",
    "\n",
    "To calculate statistical significance, I compute the 90% interquartile range for the null model, i.e. the range of reasonable outcomes for independent random wins sampled with 50% probability. In other words, I compare my model's success rate to what one would expect from random chance.\n",
    "\n",
    "The results of this calculation are shown below for a decision threshold X=0.75."
   ]
  },
  {
   "cell_type": "code",
   "execution_count": null,
   "metadata": {},
   "outputs": [],
   "source": [
    "!python3 simulate-bets.py 0.75"
   ]
  },
  {
   "cell_type": "markdown",
   "metadata": {},
   "source": [
    "Here we see that the model is performing at the 90% quantile level, i.e. not something you'd use to bet a ton of money, but I think impressive nonetheless."
   ]
  },
  {
   "cell_type": "markdown",
   "metadata": {},
   "source": [
    "## Who's going to win Super Bowl LIV?\n",
    "\n",
    "Unfortunately, I have not prepped the model to work on the post-season yet. There's nothing that precludes applying the model to the post-season, it just involves some more work, and I haven't had time to do it yet.\n",
    "\n",
    "In any event, I think this tutorial shows that the Vegas lines are quite accurate, and it is non-trivial to build a model that beats them. The small number of available games makes NFL modeling a uniquely interesting problem, and I've learned quite a bit on my own quest to build a better model.\n",
    "\n",
    "Please feel free to contact me at morelandjs@gmail.com with questions and comments.\n",
    "\n",
    "Thank you!\n",
    "\n",
    "-Scott"
   ]
  },
  {
   "cell_type": "code",
   "execution_count": null,
   "metadata": {},
   "outputs": [],
   "source": []
  }
 ],
 "metadata": {
  "kernelspec": {
   "display_name": "Python 3",
   "language": "python",
   "name": "python3"
  },
  "language_info": {
   "codemirror_mode": {
    "name": "ipython",
    "version": 3
   },
   "file_extension": ".py",
   "mimetype": "text/x-python",
   "name": "python",
   "nbconvert_exporter": "python",
   "pygments_lexer": "ipython3",
   "version": "3.8.1"
  }
 },
 "nbformat": 4,
 "nbformat_minor": 4
}
